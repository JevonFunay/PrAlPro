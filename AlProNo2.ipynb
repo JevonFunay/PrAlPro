{
 "cells": [
  {
   "cell_type": "code",
   "execution_count": 6,
   "id": "df436a21",
   "metadata": {},
   "outputs": [
    {
     "name": "stdout",
     "output_type": "stream",
     "text": [
      "Perlu waktu = 8 Agar Rp. 200.000.000 JT menjadi Rp = 428717762.00000036\n"
     ]
    }
   ],
   "source": [
    "#Uang Awal 200.000.000\n",
    "#Bunga 10%\n",
    "\n",
    "UA = 200000000\n",
    "B = 10/100\n",
    "TU = UA\n",
    "THN = 0\n",
    "\n",
    "while TU<= 400000000:\n",
    "    THN=THN+1\n",
    "    TU = float(TU*(1+B))\n",
    "X = TU\n",
    "print(\"Perlu waktu =\", THN, \"Agar Rp. 200.000.000 JT menjadi Rp =\", X)"
   ]
  },
  {
   "cell_type": "code",
   "execution_count": null,
   "id": "4b880635",
   "metadata": {},
   "outputs": [],
   "source": []
  },
  {
   "cell_type": "code",
   "execution_count": null,
   "id": "a3ee794f",
   "metadata": {},
   "outputs": [],
   "source": []
  }
 ],
 "metadata": {
  "kernelspec": {
   "display_name": "Python 3 (ipykernel)",
   "language": "python",
   "name": "python3"
  },
  "language_info": {
   "codemirror_mode": {
    "name": "ipython",
    "version": 3
   },
   "file_extension": ".py",
   "mimetype": "text/x-python",
   "name": "python",
   "nbconvert_exporter": "python",
   "pygments_lexer": "ipython3",
   "version": "3.11.5"
  }
 },
 "nbformat": 4,
 "nbformat_minor": 5
}
